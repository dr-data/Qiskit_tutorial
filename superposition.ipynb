{
  "nbformat": 4,
  "nbformat_minor": 0,
  "metadata": {
    "anaconda-cloud": {},
    "kernelspec": {
      "display_name": "Python 3.7.3 64-bit",
      "language": "python",
      "name": "python_defaultSpec_1597684039375"
    },
    "language_info": {
      "codemirror_mode": {
        "name": "ipython",
        "version": 3
      },
      "file_extension": ".py",
      "mimetype": "text/x-python",
      "name": "python",
      "nbconvert_exporter": "python",
      "pygments_lexer": "ipython3",
      "version": "3.7.3-final"
    },
    "colab": {
      "name": "superposition.ipynb",
      "provenance": []
    }
  },
  "cells": [
    {
      "cell_type": "markdown",
      "metadata": {
        "id": "Iu1nIB3tcQNw",
        "colab_type": "text"
      },
      "source": [
        "<img src=\"https://raw.githubusercontent.com/Qiskit/qiskit-tutorials/master/images/qiskit-heading.png\" alt=\"Note: In order for images to show up in this jupyter notebook you need to select File => Trusted Notebook\" width=\"500 px\" align=\"left\">"
      ]
    },
    {
      "cell_type": "code",
      "metadata": {
        "tags": [],
        "id": "fuzHJuHNcQNy",
        "colab_type": "code",
        "colab": {
          "base_uri": "https://localhost:8080/",
          "height": 1000
        },
        "outputId": "d276fed5-d872-438c-f863-b1beccaf4ac3"
      },
      "source": [
        "# install dependencies (Qiskit)\n",
        "!pip install --upgrade qiskit==0.19.6 \n",
        "!pip install --upgrade metakernel\n",
        "!pip install --upgrade portalocker\n",
        "!pip install --upgrade matplotlib\n",
        "!pip install git+https://github.com/qiskit-community/qiskit-textbook.git#subdirectory=qiskit-textbook-src"
      ],
      "execution_count": 5,
      "outputs": [
        {
          "output_type": "stream",
          "text": [
            "Requirement already up-to-date: qiskit==0.19.6 in /usr/local/lib/python3.6/dist-packages (0.19.6)\n",
            "Requirement already satisfied, skipping upgrade: qiskit-ignis==0.3.3 in /usr/local/lib/python3.6/dist-packages (from qiskit==0.19.6) (0.3.3)\n",
            "Requirement already satisfied, skipping upgrade: qiskit-terra==0.14.2 in /usr/local/lib/python3.6/dist-packages (from qiskit==0.19.6) (0.14.2)\n",
            "Requirement already satisfied, skipping upgrade: qiskit-aqua==0.7.3 in /usr/local/lib/python3.6/dist-packages (from qiskit==0.19.6) (0.7.3)\n",
            "Requirement already satisfied, skipping upgrade: qiskit-ibmq-provider==0.7.2 in /usr/local/lib/python3.6/dist-packages (from qiskit==0.19.6) (0.7.2)\n",
            "Requirement already satisfied, skipping upgrade: qiskit-aer==0.5.2 in /usr/local/lib/python3.6/dist-packages (from qiskit==0.19.6) (0.5.2)\n",
            "Requirement already satisfied, skipping upgrade: scipy!=0.19.1,>=0.19 in /usr/local/lib/python3.6/dist-packages (from qiskit-ignis==0.3.3->qiskit==0.19.6) (1.4.1)\n",
            "Requirement already satisfied, skipping upgrade: setuptools>=40.1.0 in /usr/local/lib/python3.6/dist-packages (from qiskit-ignis==0.3.3->qiskit==0.19.6) (49.2.0)\n",
            "Requirement already satisfied, skipping upgrade: numpy>=1.13 in /usr/local/lib/python3.6/dist-packages (from qiskit-ignis==0.3.3->qiskit==0.19.6) (1.18.5)\n",
            "Requirement already satisfied, skipping upgrade: scikit-learn>=0.17 in /usr/local/lib/python3.6/dist-packages (from qiskit-ignis==0.3.3->qiskit==0.19.6) (0.22.2.post1)\n",
            "Requirement already satisfied, skipping upgrade: psutil>=5 in /usr/local/lib/python3.6/dist-packages (from qiskit-terra==0.14.2->qiskit==0.19.6) (5.4.8)\n",
            "Requirement already satisfied, skipping upgrade: ply>=3.10 in /usr/local/lib/python3.6/dist-packages (from qiskit-terra==0.14.2->qiskit==0.19.6) (3.11)\n",
            "Requirement already satisfied, skipping upgrade: jsonschema>=2.6 in /usr/local/lib/python3.6/dist-packages (from qiskit-terra==0.14.2->qiskit==0.19.6) (2.6.0)\n",
            "Requirement already satisfied, skipping upgrade: retworkx>=0.3.2 in /usr/local/lib/python3.6/dist-packages (from qiskit-terra==0.14.2->qiskit==0.19.6) (0.4.0)\n",
            "Requirement already satisfied, skipping upgrade: networkx>=2.2; python_version > \"3.5\" in /usr/local/lib/python3.6/dist-packages (from qiskit-terra==0.14.2->qiskit==0.19.6) (2.4)\n",
            "Requirement already satisfied, skipping upgrade: dill>=0.3 in /usr/local/lib/python3.6/dist-packages (from qiskit-terra==0.14.2->qiskit==0.19.6) (0.3.2)\n",
            "Requirement already satisfied, skipping upgrade: python-constraint>=1.4 in /usr/local/lib/python3.6/dist-packages (from qiskit-terra==0.14.2->qiskit==0.19.6) (1.4.0)\n",
            "Requirement already satisfied, skipping upgrade: marshmallow<4,>=3 in /usr/local/lib/python3.6/dist-packages (from qiskit-terra==0.14.2->qiskit==0.19.6) (3.7.1)\n",
            "Requirement already satisfied, skipping upgrade: marshmallow-polyfield<6,>=5.7 in /usr/local/lib/python3.6/dist-packages (from qiskit-terra==0.14.2->qiskit==0.19.6) (5.9)\n",
            "Requirement already satisfied, skipping upgrade: python-dateutil>=2.8.0 in /usr/local/lib/python3.6/dist-packages (from qiskit-terra==0.14.2->qiskit==0.19.6) (2.8.1)\n",
            "Requirement already satisfied, skipping upgrade: sympy>=1.3 in /usr/local/lib/python3.6/dist-packages (from qiskit-terra==0.14.2->qiskit==0.19.6) (1.6.2)\n",
            "Requirement already satisfied, skipping upgrade: fastjsonschema>=2.10 in /usr/local/lib/python3.6/dist-packages (from qiskit-terra==0.14.2->qiskit==0.19.6) (2.14.4)\n",
            "Requirement already satisfied, skipping upgrade: pyscf; sys_platform != \"win32\" in /usr/local/lib/python3.6/dist-packages (from qiskit-aqua==0.7.3->qiskit==0.19.6) (1.7.4)\n",
            "Requirement already satisfied, skipping upgrade: h5py in /usr/local/lib/python3.6/dist-packages (from qiskit-aqua==0.7.3->qiskit==0.19.6) (2.10.0)\n",
            "Requirement already satisfied, skipping upgrade: fastdtw in /usr/local/lib/python3.6/dist-packages (from qiskit-aqua==0.7.3->qiskit==0.19.6) (0.3.4)\n",
            "Requirement already satisfied, skipping upgrade: dlx in /usr/local/lib/python3.6/dist-packages (from qiskit-aqua==0.7.3->qiskit==0.19.6) (1.0.4)\n",
            "Requirement already satisfied, skipping upgrade: docplex in /usr/local/lib/python3.6/dist-packages (from qiskit-aqua==0.7.3->qiskit==0.19.6) (2.15.194)\n",
            "Requirement already satisfied, skipping upgrade: quandl in /usr/local/lib/python3.6/dist-packages (from qiskit-aqua==0.7.3->qiskit==0.19.6) (3.5.2)\n",
            "Requirement already satisfied, skipping upgrade: nest-asyncio!=1.1.0,>=1.0.0 in /usr/local/lib/python3.6/dist-packages (from qiskit-ibmq-provider==0.7.2->qiskit==0.19.6) (1.4.0)\n",
            "Requirement already satisfied, skipping upgrade: urllib3>=1.21.1 in /usr/local/lib/python3.6/dist-packages (from qiskit-ibmq-provider==0.7.2->qiskit==0.19.6) (1.24.3)\n",
            "Requirement already satisfied, skipping upgrade: websockets<8,>=7 in /usr/local/lib/python3.6/dist-packages (from qiskit-ibmq-provider==0.7.2->qiskit==0.19.6) (7.0)\n",
            "Requirement already satisfied, skipping upgrade: requests-ntlm>=1.1.0 in /usr/local/lib/python3.6/dist-packages (from qiskit-ibmq-provider==0.7.2->qiskit==0.19.6) (1.1.0)\n",
            "Requirement already satisfied, skipping upgrade: requests>=2.19 in /usr/local/lib/python3.6/dist-packages (from qiskit-ibmq-provider==0.7.2->qiskit==0.19.6) (2.23.0)\n",
            "Requirement already satisfied, skipping upgrade: pybind11>=2.4 in /usr/local/lib/python3.6/dist-packages (from qiskit-aer==0.5.2->qiskit==0.19.6) (2.5.0)\n",
            "Requirement already satisfied, skipping upgrade: cython>=0.27.1 in /usr/local/lib/python3.6/dist-packages (from qiskit-aer==0.5.2->qiskit==0.19.6) (0.29.21)\n",
            "Requirement already satisfied, skipping upgrade: joblib>=0.11 in /usr/local/lib/python3.6/dist-packages (from scikit-learn>=0.17->qiskit-ignis==0.3.3->qiskit==0.19.6) (0.16.0)\n",
            "Requirement already satisfied, skipping upgrade: decorator>=4.3.0 in /usr/local/lib/python3.6/dist-packages (from networkx>=2.2; python_version > \"3.5\"->qiskit-terra==0.14.2->qiskit==0.19.6) (4.4.2)\n",
            "Requirement already satisfied, skipping upgrade: six>=1.5 in /usr/local/lib/python3.6/dist-packages (from python-dateutil>=2.8.0->qiskit-terra==0.14.2->qiskit==0.19.6) (1.15.0)\n",
            "Requirement already satisfied, skipping upgrade: mpmath>=0.19 in /usr/local/lib/python3.6/dist-packages (from sympy>=1.3->qiskit-terra==0.14.2->qiskit==0.19.6) (1.1.0)\n",
            "Requirement already satisfied, skipping upgrade: inflection>=0.3.1 in /usr/local/lib/python3.6/dist-packages (from quandl->qiskit-aqua==0.7.3->qiskit==0.19.6) (0.5.0)\n",
            "Requirement already satisfied, skipping upgrade: more-itertools in /usr/local/lib/python3.6/dist-packages (from quandl->qiskit-aqua==0.7.3->qiskit==0.19.6) (8.4.0)\n",
            "Requirement already satisfied, skipping upgrade: pandas>=0.14 in /usr/local/lib/python3.6/dist-packages (from quandl->qiskit-aqua==0.7.3->qiskit==0.19.6) (1.0.5)\n",
            "Requirement already satisfied, skipping upgrade: ntlm-auth>=1.0.2 in /usr/local/lib/python3.6/dist-packages (from requests-ntlm>=1.1.0->qiskit-ibmq-provider==0.7.2->qiskit==0.19.6) (1.5.0)\n",
            "Requirement already satisfied, skipping upgrade: cryptography>=1.3 in /usr/local/lib/python3.6/dist-packages (from requests-ntlm>=1.1.0->qiskit-ibmq-provider==0.7.2->qiskit==0.19.6) (3.0)\n",
            "Requirement already satisfied, skipping upgrade: idna<3,>=2.5 in /usr/local/lib/python3.6/dist-packages (from requests>=2.19->qiskit-ibmq-provider==0.7.2->qiskit==0.19.6) (2.10)\n",
            "Requirement already satisfied, skipping upgrade: chardet<4,>=3.0.2 in /usr/local/lib/python3.6/dist-packages (from requests>=2.19->qiskit-ibmq-provider==0.7.2->qiskit==0.19.6) (3.0.4)\n",
            "Requirement already satisfied, skipping upgrade: certifi>=2017.4.17 in /usr/local/lib/python3.6/dist-packages (from requests>=2.19->qiskit-ibmq-provider==0.7.2->qiskit==0.19.6) (2020.6.20)\n",
            "Requirement already satisfied, skipping upgrade: pytz>=2017.2 in /usr/local/lib/python3.6/dist-packages (from pandas>=0.14->quandl->qiskit-aqua==0.7.3->qiskit==0.19.6) (2018.9)\n",
            "Requirement already satisfied, skipping upgrade: cffi!=1.11.3,>=1.8 in /usr/local/lib/python3.6/dist-packages (from cryptography>=1.3->requests-ntlm>=1.1.0->qiskit-ibmq-provider==0.7.2->qiskit==0.19.6) (1.14.1)\n",
            "Requirement already satisfied, skipping upgrade: pycparser in /usr/local/lib/python3.6/dist-packages (from cffi!=1.11.3,>=1.8->cryptography>=1.3->requests-ntlm>=1.1.0->qiskit-ibmq-provider==0.7.2->qiskit==0.19.6) (2.20)\n",
            "Requirement already up-to-date: metakernel in /usr/local/lib/python3.6/dist-packages (0.24.4)\n",
            "Requirement already satisfied, skipping upgrade: pexpect>=4.2 in /usr/local/lib/python3.6/dist-packages (from metakernel) (4.8.0)\n",
            "Requirement already satisfied, skipping upgrade: ipykernel in /usr/local/lib/python3.6/dist-packages (from metakernel) (4.10.1)\n",
            "Requirement already satisfied, skipping upgrade: ptyprocess>=0.5 in /usr/local/lib/python3.6/dist-packages (from pexpect>=4.2->metakernel) (0.6.0)\n",
            "Requirement already satisfied, skipping upgrade: tornado>=4.0 in /usr/local/lib/python3.6/dist-packages (from ipykernel->metakernel) (5.1.1)\n",
            "Requirement already satisfied, skipping upgrade: ipython>=4.0.0 in /usr/local/lib/python3.6/dist-packages (from ipykernel->metakernel) (5.5.0)\n",
            "Requirement already satisfied, skipping upgrade: jupyter-client in /usr/local/lib/python3.6/dist-packages (from ipykernel->metakernel) (5.3.5)\n",
            "Requirement already satisfied, skipping upgrade: traitlets>=4.1.0 in /usr/local/lib/python3.6/dist-packages (from ipykernel->metakernel) (4.3.3)\n",
            "Requirement already satisfied, skipping upgrade: simplegeneric>0.8 in /usr/local/lib/python3.6/dist-packages (from ipython>=4.0.0->ipykernel->metakernel) (0.8.1)\n",
            "Requirement already satisfied, skipping upgrade: pickleshare in /usr/local/lib/python3.6/dist-packages (from ipython>=4.0.0->ipykernel->metakernel) (0.7.5)\n",
            "Requirement already satisfied, skipping upgrade: setuptools>=18.5 in /usr/local/lib/python3.6/dist-packages (from ipython>=4.0.0->ipykernel->metakernel) (49.2.0)\n",
            "Requirement already satisfied, skipping upgrade: pygments in /usr/local/lib/python3.6/dist-packages (from ipython>=4.0.0->ipykernel->metakernel) (2.1.3)\n",
            "Requirement already satisfied, skipping upgrade: decorator in /usr/local/lib/python3.6/dist-packages (from ipython>=4.0.0->ipykernel->metakernel) (4.4.2)\n",
            "Requirement already satisfied, skipping upgrade: prompt-toolkit<2.0.0,>=1.0.4 in /usr/local/lib/python3.6/dist-packages (from ipython>=4.0.0->ipykernel->metakernel) (1.0.18)\n",
            "Requirement already satisfied, skipping upgrade: python-dateutil>=2.1 in /usr/local/lib/python3.6/dist-packages (from jupyter-client->ipykernel->metakernel) (2.8.1)\n",
            "Requirement already satisfied, skipping upgrade: jupyter-core>=4.6.0 in /usr/local/lib/python3.6/dist-packages (from jupyter-client->ipykernel->metakernel) (4.6.3)\n",
            "Requirement already satisfied, skipping upgrade: pyzmq>=13 in /usr/local/lib/python3.6/dist-packages (from jupyter-client->ipykernel->metakernel) (19.0.2)\n",
            "Requirement already satisfied, skipping upgrade: ipython-genutils in /usr/local/lib/python3.6/dist-packages (from traitlets>=4.1.0->ipykernel->metakernel) (0.2.0)\n",
            "Requirement already satisfied, skipping upgrade: six in /usr/local/lib/python3.6/dist-packages (from traitlets>=4.1.0->ipykernel->metakernel) (1.15.0)\n",
            "Requirement already satisfied, skipping upgrade: wcwidth in /usr/local/lib/python3.6/dist-packages (from prompt-toolkit<2.0.0,>=1.0.4->ipython>=4.0.0->ipykernel->metakernel) (0.2.5)\n",
            "Requirement already up-to-date: portalocker in /usr/local/lib/python3.6/dist-packages (2.0.0)\n",
            "Requirement already up-to-date: matplotlib in /usr/local/lib/python3.6/dist-packages (3.3.1)\n",
            "Requirement already satisfied, skipping upgrade: numpy>=1.15 in /usr/local/lib/python3.6/dist-packages (from matplotlib) (1.18.5)\n",
            "Requirement already satisfied, skipping upgrade: pyparsing!=2.0.4,!=2.1.2,!=2.1.6,>=2.0.3 in /usr/local/lib/python3.6/dist-packages (from matplotlib) (2.4.7)\n",
            "Requirement already satisfied, skipping upgrade: kiwisolver>=1.0.1 in /usr/local/lib/python3.6/dist-packages (from matplotlib) (1.2.0)\n",
            "Requirement already satisfied, skipping upgrade: certifi>=2020.06.20 in /usr/local/lib/python3.6/dist-packages (from matplotlib) (2020.6.20)\n",
            "Requirement already satisfied, skipping upgrade: cycler>=0.10 in /usr/local/lib/python3.6/dist-packages (from matplotlib) (0.10.0)\n",
            "Requirement already satisfied, skipping upgrade: pillow>=6.2.0 in /usr/local/lib/python3.6/dist-packages (from matplotlib) (7.0.0)\n",
            "Requirement already satisfied, skipping upgrade: python-dateutil>=2.1 in /usr/local/lib/python3.6/dist-packages (from matplotlib) (2.8.1)\n",
            "Requirement already satisfied, skipping upgrade: six in /usr/local/lib/python3.6/dist-packages (from cycler>=0.10->matplotlib) (1.15.0)\n",
            "Collecting git+https://github.com/qiskit-community/qiskit-textbook.git#subdirectory=qiskit-textbook-src\n",
            "  Cloning https://github.com/qiskit-community/qiskit-textbook.git to /tmp/pip-req-build-23of5c78\n",
            "  Running command git clone -q https://github.com/qiskit-community/qiskit-textbook.git /tmp/pip-req-build-23of5c78\n",
            "Requirement already satisfied (use --upgrade to upgrade): qiskit-textbook==0.1.0 from git+https://github.com/qiskit-community/qiskit-textbook.git#subdirectory=qiskit-textbook-src in /usr/local/lib/python3.6/dist-packages\n",
            "Requirement already satisfied: qiskit in /usr/local/lib/python3.6/dist-packages (from qiskit-textbook==0.1.0) (0.19.6)\n",
            "Requirement already satisfied: ipython in /usr/local/lib/python3.6/dist-packages (from qiskit-textbook==0.1.0) (5.5.0)\n",
            "Requirement already satisfied: ipywidgets in /usr/local/lib/python3.6/dist-packages (from qiskit-textbook==0.1.0) (7.5.1)\n",
            "Requirement already satisfied: numpy in /usr/local/lib/python3.6/dist-packages (from qiskit-textbook==0.1.0) (1.18.5)\n",
            "Requirement already satisfied: matplotlib in /usr/local/lib/python3.6/dist-packages (from qiskit-textbook==0.1.0) (3.3.1)\n",
            "Requirement already satisfied: qiskit-aqua==0.7.3 in /usr/local/lib/python3.6/dist-packages (from qiskit->qiskit-textbook==0.1.0) (0.7.3)\n",
            "Requirement already satisfied: qiskit-terra==0.14.2 in /usr/local/lib/python3.6/dist-packages (from qiskit->qiskit-textbook==0.1.0) (0.14.2)\n",
            "Requirement already satisfied: qiskit-aer==0.5.2 in /usr/local/lib/python3.6/dist-packages (from qiskit->qiskit-textbook==0.1.0) (0.5.2)\n",
            "Requirement already satisfied: qiskit-ibmq-provider==0.7.2 in /usr/local/lib/python3.6/dist-packages (from qiskit->qiskit-textbook==0.1.0) (0.7.2)\n",
            "Requirement already satisfied: qiskit-ignis==0.3.3 in /usr/local/lib/python3.6/dist-packages (from qiskit->qiskit-textbook==0.1.0) (0.3.3)\n",
            "Requirement already satisfied: traitlets>=4.2 in /usr/local/lib/python3.6/dist-packages (from ipython->qiskit-textbook==0.1.0) (4.3.3)\n",
            "Requirement already satisfied: pexpect; sys_platform != \"win32\" in /usr/local/lib/python3.6/dist-packages (from ipython->qiskit-textbook==0.1.0) (4.8.0)\n",
            "Requirement already satisfied: pygments in /usr/local/lib/python3.6/dist-packages (from ipython->qiskit-textbook==0.1.0) (2.1.3)\n",
            "Requirement already satisfied: simplegeneric>0.8 in /usr/local/lib/python3.6/dist-packages (from ipython->qiskit-textbook==0.1.0) (0.8.1)\n",
            "Requirement already satisfied: pickleshare in /usr/local/lib/python3.6/dist-packages (from ipython->qiskit-textbook==0.1.0) (0.7.5)\n",
            "Requirement already satisfied: prompt-toolkit<2.0.0,>=1.0.4 in /usr/local/lib/python3.6/dist-packages (from ipython->qiskit-textbook==0.1.0) (1.0.18)\n",
            "Requirement already satisfied: decorator in /usr/local/lib/python3.6/dist-packages (from ipython->qiskit-textbook==0.1.0) (4.4.2)\n",
            "Requirement already satisfied: setuptools>=18.5 in /usr/local/lib/python3.6/dist-packages (from ipython->qiskit-textbook==0.1.0) (49.2.0)\n",
            "Requirement already satisfied: widgetsnbextension~=3.5.0 in /usr/local/lib/python3.6/dist-packages (from ipywidgets->qiskit-textbook==0.1.0) (3.5.1)\n",
            "Requirement already satisfied: ipykernel>=4.5.1 in /usr/local/lib/python3.6/dist-packages (from ipywidgets->qiskit-textbook==0.1.0) (4.10.1)\n",
            "Requirement already satisfied: nbformat>=4.2.0 in /usr/local/lib/python3.6/dist-packages (from ipywidgets->qiskit-textbook==0.1.0) (5.0.7)\n",
            "Requirement already satisfied: cycler>=0.10 in /usr/local/lib/python3.6/dist-packages (from matplotlib->qiskit-textbook==0.1.0) (0.10.0)\n",
            "Requirement already satisfied: python-dateutil>=2.1 in /usr/local/lib/python3.6/dist-packages (from matplotlib->qiskit-textbook==0.1.0) (2.8.1)\n",
            "Requirement already satisfied: kiwisolver>=1.0.1 in /usr/local/lib/python3.6/dist-packages (from matplotlib->qiskit-textbook==0.1.0) (1.2.0)\n",
            "Requirement already satisfied: pyparsing!=2.0.4,!=2.1.2,!=2.1.6,>=2.0.3 in /usr/local/lib/python3.6/dist-packages (from matplotlib->qiskit-textbook==0.1.0) (2.4.7)\n",
            "Requirement already satisfied: certifi>=2020.06.20 in /usr/local/lib/python3.6/dist-packages (from matplotlib->qiskit-textbook==0.1.0) (2020.6.20)\n",
            "Requirement already satisfied: pillow>=6.2.0 in /usr/local/lib/python3.6/dist-packages (from matplotlib->qiskit-textbook==0.1.0) (7.0.0)\n",
            "Requirement already satisfied: scikit-learn>=0.20.0 in /usr/local/lib/python3.6/dist-packages (from qiskit-aqua==0.7.3->qiskit->qiskit-textbook==0.1.0) (0.22.2.post1)\n",
            "Requirement already satisfied: quandl in /usr/local/lib/python3.6/dist-packages (from qiskit-aqua==0.7.3->qiskit->qiskit-textbook==0.1.0) (3.5.2)\n",
            "Requirement already satisfied: docplex in /usr/local/lib/python3.6/dist-packages (from qiskit-aqua==0.7.3->qiskit->qiskit-textbook==0.1.0) (2.15.194)\n",
            "Requirement already satisfied: scipy>=1.4 in /usr/local/lib/python3.6/dist-packages (from qiskit-aqua==0.7.3->qiskit->qiskit-textbook==0.1.0) (1.4.1)\n",
            "Requirement already satisfied: networkx>=2.2 in /usr/local/lib/python3.6/dist-packages (from qiskit-aqua==0.7.3->qiskit->qiskit-textbook==0.1.0) (2.4)\n",
            "Requirement already satisfied: psutil>=5 in /usr/local/lib/python3.6/dist-packages (from qiskit-aqua==0.7.3->qiskit->qiskit-textbook==0.1.0) (5.4.8)\n",
            "Requirement already satisfied: pyscf; sys_platform != \"win32\" in /usr/local/lib/python3.6/dist-packages (from qiskit-aqua==0.7.3->qiskit->qiskit-textbook==0.1.0) (1.7.4)\n",
            "Requirement already satisfied: sympy>=1.3 in /usr/local/lib/python3.6/dist-packages (from qiskit-aqua==0.7.3->qiskit->qiskit-textbook==0.1.0) (1.6.2)\n",
            "Requirement already satisfied: fastdtw in /usr/local/lib/python3.6/dist-packages (from qiskit-aqua==0.7.3->qiskit->qiskit-textbook==0.1.0) (0.3.4)\n",
            "Requirement already satisfied: h5py in /usr/local/lib/python3.6/dist-packages (from qiskit-aqua==0.7.3->qiskit->qiskit-textbook==0.1.0) (2.10.0)\n",
            "Requirement already satisfied: dlx in /usr/local/lib/python3.6/dist-packages (from qiskit-aqua==0.7.3->qiskit->qiskit-textbook==0.1.0) (1.0.4)\n",
            "Requirement already satisfied: dill>=0.3 in /usr/local/lib/python3.6/dist-packages (from qiskit-terra==0.14.2->qiskit->qiskit-textbook==0.1.0) (0.3.2)\n",
            "Requirement already satisfied: jsonschema>=2.6 in /usr/local/lib/python3.6/dist-packages (from qiskit-terra==0.14.2->qiskit->qiskit-textbook==0.1.0) (2.6.0)\n",
            "Requirement already satisfied: fastjsonschema>=2.10 in /usr/local/lib/python3.6/dist-packages (from qiskit-terra==0.14.2->qiskit->qiskit-textbook==0.1.0) (2.14.4)\n",
            "Requirement already satisfied: python-constraint>=1.4 in /usr/local/lib/python3.6/dist-packages (from qiskit-terra==0.14.2->qiskit->qiskit-textbook==0.1.0) (1.4.0)\n",
            "Requirement already satisfied: marshmallow-polyfield<6,>=5.7 in /usr/local/lib/python3.6/dist-packages (from qiskit-terra==0.14.2->qiskit->qiskit-textbook==0.1.0) (5.9)\n",
            "Requirement already satisfied: retworkx>=0.3.2 in /usr/local/lib/python3.6/dist-packages (from qiskit-terra==0.14.2->qiskit->qiskit-textbook==0.1.0) (0.4.0)\n",
            "Requirement already satisfied: ply>=3.10 in /usr/local/lib/python3.6/dist-packages (from qiskit-terra==0.14.2->qiskit->qiskit-textbook==0.1.0) (3.11)\n",
            "Requirement already satisfied: marshmallow<4,>=3 in /usr/local/lib/python3.6/dist-packages (from qiskit-terra==0.14.2->qiskit->qiskit-textbook==0.1.0) (3.7.1)\n",
            "Requirement already satisfied: pybind11>=2.4 in /usr/local/lib/python3.6/dist-packages (from qiskit-aer==0.5.2->qiskit->qiskit-textbook==0.1.0) (2.5.0)\n",
            "Requirement already satisfied: cython>=0.27.1 in /usr/local/lib/python3.6/dist-packages (from qiskit-aer==0.5.2->qiskit->qiskit-textbook==0.1.0) (0.29.21)\n",
            "Requirement already satisfied: websockets<8,>=7 in /usr/local/lib/python3.6/dist-packages (from qiskit-ibmq-provider==0.7.2->qiskit->qiskit-textbook==0.1.0) (7.0)\n",
            "Requirement already satisfied: nest-asyncio!=1.1.0,>=1.0.0 in /usr/local/lib/python3.6/dist-packages (from qiskit-ibmq-provider==0.7.2->qiskit->qiskit-textbook==0.1.0) (1.4.0)\n",
            "Requirement already satisfied: requests>=2.19 in /usr/local/lib/python3.6/dist-packages (from qiskit-ibmq-provider==0.7.2->qiskit->qiskit-textbook==0.1.0) (2.23.0)\n",
            "Requirement already satisfied: urllib3>=1.21.1 in /usr/local/lib/python3.6/dist-packages (from qiskit-ibmq-provider==0.7.2->qiskit->qiskit-textbook==0.1.0) (1.24.3)\n",
            "Requirement already satisfied: requests-ntlm>=1.1.0 in /usr/local/lib/python3.6/dist-packages (from qiskit-ibmq-provider==0.7.2->qiskit->qiskit-textbook==0.1.0) (1.1.0)\n",
            "Requirement already satisfied: ipython-genutils in /usr/local/lib/python3.6/dist-packages (from traitlets>=4.2->ipython->qiskit-textbook==0.1.0) (0.2.0)\n",
            "Requirement already satisfied: six in /usr/local/lib/python3.6/dist-packages (from traitlets>=4.2->ipython->qiskit-textbook==0.1.0) (1.15.0)\n",
            "Requirement already satisfied: ptyprocess>=0.5 in /usr/local/lib/python3.6/dist-packages (from pexpect; sys_platform != \"win32\"->ipython->qiskit-textbook==0.1.0) (0.6.0)\n",
            "Requirement already satisfied: wcwidth in /usr/local/lib/python3.6/dist-packages (from prompt-toolkit<2.0.0,>=1.0.4->ipython->qiskit-textbook==0.1.0) (0.2.5)\n",
            "Requirement already satisfied: notebook>=4.4.1 in /usr/local/lib/python3.6/dist-packages (from widgetsnbextension~=3.5.0->ipywidgets->qiskit-textbook==0.1.0) (5.3.1)\n",
            "Requirement already satisfied: jupyter-client in /usr/local/lib/python3.6/dist-packages (from ipykernel>=4.5.1->ipywidgets->qiskit-textbook==0.1.0) (5.3.5)\n",
            "Requirement already satisfied: tornado>=4.0 in /usr/local/lib/python3.6/dist-packages (from ipykernel>=4.5.1->ipywidgets->qiskit-textbook==0.1.0) (5.1.1)\n",
            "Requirement already satisfied: jupyter-core in /usr/local/lib/python3.6/dist-packages (from nbformat>=4.2.0->ipywidgets->qiskit-textbook==0.1.0) (4.6.3)\n",
            "Requirement already satisfied: joblib>=0.11 in /usr/local/lib/python3.6/dist-packages (from scikit-learn>=0.20.0->qiskit-aqua==0.7.3->qiskit->qiskit-textbook==0.1.0) (0.16.0)\n",
            "Requirement already satisfied: pandas>=0.14 in /usr/local/lib/python3.6/dist-packages (from quandl->qiskit-aqua==0.7.3->qiskit->qiskit-textbook==0.1.0) (1.0.5)\n",
            "Requirement already satisfied: more-itertools in /usr/local/lib/python3.6/dist-packages (from quandl->qiskit-aqua==0.7.3->qiskit->qiskit-textbook==0.1.0) (8.4.0)\n",
            "Requirement already satisfied: inflection>=0.3.1 in /usr/local/lib/python3.6/dist-packages (from quandl->qiskit-aqua==0.7.3->qiskit->qiskit-textbook==0.1.0) (0.5.0)\n",
            "Requirement already satisfied: mpmath>=0.19 in /usr/local/lib/python3.6/dist-packages (from sympy>=1.3->qiskit-aqua==0.7.3->qiskit->qiskit-textbook==0.1.0) (1.1.0)\n",
            "Requirement already satisfied: chardet<4,>=3.0.2 in /usr/local/lib/python3.6/dist-packages (from requests>=2.19->qiskit-ibmq-provider==0.7.2->qiskit->qiskit-textbook==0.1.0) (3.0.4)\n",
            "Requirement already satisfied: idna<3,>=2.5 in /usr/local/lib/python3.6/dist-packages (from requests>=2.19->qiskit-ibmq-provider==0.7.2->qiskit->qiskit-textbook==0.1.0) (2.10)\n",
            "Requirement already satisfied: ntlm-auth>=1.0.2 in /usr/local/lib/python3.6/dist-packages (from requests-ntlm>=1.1.0->qiskit-ibmq-provider==0.7.2->qiskit->qiskit-textbook==0.1.0) (1.5.0)\n",
            "Requirement already satisfied: cryptography>=1.3 in /usr/local/lib/python3.6/dist-packages (from requests-ntlm>=1.1.0->qiskit-ibmq-provider==0.7.2->qiskit->qiskit-textbook==0.1.0) (3.0)\n",
            "Requirement already satisfied: terminado>=0.8.1 in /usr/local/lib/python3.6/dist-packages (from notebook>=4.4.1->widgetsnbextension~=3.5.0->ipywidgets->qiskit-textbook==0.1.0) (0.8.3)\n",
            "Requirement already satisfied: nbconvert in /usr/local/lib/python3.6/dist-packages (from notebook>=4.4.1->widgetsnbextension~=3.5.0->ipywidgets->qiskit-textbook==0.1.0) (5.6.1)\n",
            "Requirement already satisfied: Send2Trash in /usr/local/lib/python3.6/dist-packages (from notebook>=4.4.1->widgetsnbextension~=3.5.0->ipywidgets->qiskit-textbook==0.1.0) (1.5.0)\n",
            "Requirement already satisfied: jinja2 in /usr/local/lib/python3.6/dist-packages (from notebook>=4.4.1->widgetsnbextension~=3.5.0->ipywidgets->qiskit-textbook==0.1.0) (2.11.2)\n",
            "Requirement already satisfied: pyzmq>=13 in /usr/local/lib/python3.6/dist-packages (from jupyter-client->ipykernel>=4.5.1->ipywidgets->qiskit-textbook==0.1.0) (19.0.2)\n",
            "Requirement already satisfied: pytz>=2017.2 in /usr/local/lib/python3.6/dist-packages (from pandas>=0.14->quandl->qiskit-aqua==0.7.3->qiskit->qiskit-textbook==0.1.0) (2018.9)\n",
            "Requirement already satisfied: cffi!=1.11.3,>=1.8 in /usr/local/lib/python3.6/dist-packages (from cryptography>=1.3->requests-ntlm>=1.1.0->qiskit-ibmq-provider==0.7.2->qiskit->qiskit-textbook==0.1.0) (1.14.1)\n",
            "Requirement already satisfied: bleach in /usr/local/lib/python3.6/dist-packages (from nbconvert->notebook>=4.4.1->widgetsnbextension~=3.5.0->ipywidgets->qiskit-textbook==0.1.0) (3.1.5)\n",
            "Requirement already satisfied: testpath in /usr/local/lib/python3.6/dist-packages (from nbconvert->notebook>=4.4.1->widgetsnbextension~=3.5.0->ipywidgets->qiskit-textbook==0.1.0) (0.4.4)\n",
            "Requirement already satisfied: pandocfilters>=1.4.1 in /usr/local/lib/python3.6/dist-packages (from nbconvert->notebook>=4.4.1->widgetsnbextension~=3.5.0->ipywidgets->qiskit-textbook==0.1.0) (1.4.2)\n",
            "Requirement already satisfied: defusedxml in /usr/local/lib/python3.6/dist-packages (from nbconvert->notebook>=4.4.1->widgetsnbextension~=3.5.0->ipywidgets->qiskit-textbook==0.1.0) (0.6.0)\n",
            "Requirement already satisfied: mistune<2,>=0.8.1 in /usr/local/lib/python3.6/dist-packages (from nbconvert->notebook>=4.4.1->widgetsnbextension~=3.5.0->ipywidgets->qiskit-textbook==0.1.0) (0.8.4)\n",
            "Requirement already satisfied: entrypoints>=0.2.2 in /usr/local/lib/python3.6/dist-packages (from nbconvert->notebook>=4.4.1->widgetsnbextension~=3.5.0->ipywidgets->qiskit-textbook==0.1.0) (0.3)\n",
            "Requirement already satisfied: MarkupSafe>=0.23 in /usr/local/lib/python3.6/dist-packages (from jinja2->notebook>=4.4.1->widgetsnbextension~=3.5.0->ipywidgets->qiskit-textbook==0.1.0) (1.1.1)\n",
            "Requirement already satisfied: pycparser in /usr/local/lib/python3.6/dist-packages (from cffi!=1.11.3,>=1.8->cryptography>=1.3->requests-ntlm>=1.1.0->qiskit-ibmq-provider==0.7.2->qiskit->qiskit-textbook==0.1.0) (2.20)\n",
            "Requirement already satisfied: webencodings in /usr/local/lib/python3.6/dist-packages (from bleach->nbconvert->notebook>=4.4.1->widgetsnbextension~=3.5.0->ipywidgets->qiskit-textbook==0.1.0) (0.5.1)\n",
            "Requirement already satisfied: packaging in /usr/local/lib/python3.6/dist-packages (from bleach->nbconvert->notebook>=4.4.1->widgetsnbextension~=3.5.0->ipywidgets->qiskit-textbook==0.1.0) (20.4)\n",
            "Building wheels for collected packages: qiskit-textbook\n",
            "  Building wheel for qiskit-textbook (setup.py) ... \u001b[?25l\u001b[?25hdone\n",
            "  Created wheel for qiskit-textbook: filename=qiskit_textbook-0.1.0-cp36-none-any.whl size=16672 sha256=9b279a09ef2bacc3b0a438dda04ee149d2679a934832266e595ebf37d69a94eb\n",
            "  Stored in directory: /tmp/pip-ephem-wheel-cache-fxe5e69v/wheels/0c/57/26/1c12886a219af04a38ca1e674fdeeff40b8a5963326ba3c71a\n",
            "Successfully built qiskit-textbook\n"
          ],
          "name": "stdout"
        }
      ]
    },
    {
      "cell_type": "markdown",
      "metadata": {
        "id": "ajh8EYY6cQN5",
        "colab_type": "text"
      },
      "source": [
        "## _*疊加*_ \n",
        "\n",
        "\n",
        "可在https://github.com/qiskit/qiskit-tutorial 上獲得此筆記本的最新版本。\n",
        "\n",
        "\n",
        "***\n",
        "### 貢獻者\n",
        "Jay Gambetta, Antonio Córcoles, Andrew Cross, Anna Phan\n",
        "\n",
        "### Qiskit軟件包版本"
      ]
    },
    {
      "cell_type": "code",
      "metadata": {
        "id": "hwEfxm18cQN6",
        "colab_type": "code",
        "colab": {
          "base_uri": "https://localhost:8080/",
          "height": 51
        },
        "outputId": "de8d3aa3-fbf0-46cc-cb3e-410f841de8fe"
      },
      "source": [
        "import qiskit\n",
        "version_info = qiskit.__qiskit_version__\n",
        "print(\"You are now running Qiskit with the following version numbers\")\n",
        "print(version_info)"
      ],
      "execution_count": 1,
      "outputs": [
        {
          "output_type": "stream",
          "text": [
            "You are now running Qiskit with the following version numbers\n",
            "{'qiskit-terra': '0.14.2', 'qiskit-aer': '0.5.2', 'qiskit-ignis': '0.3.3', 'qiskit-ibmq-provider': '0.7.2', 'qiskit-aqua': '0.7.3', 'qiskit': '0.19.6'}\n"
          ],
          "name": "stdout"
        }
      ]
    },
    {
      "cell_type": "markdown",
      "metadata": {
        "id": "r6d8DUw-cQOB",
        "colab_type": "text"
      },
      "source": [
        "## 介紹\n",
        "\n",
        "許多人傾向於認為量子物理學是很難的數學，但這實際上並非如此。 量子概念與線性代數課程中的概念非常相似，您可能在大學甚至是高中時就讀過。 量子物理學的挑戰是必須接受它是違反直覺的思想，而且缺乏簡單的基礎理論。 我們相信，如果您掌握以下兩個原則，您將有一個良好的開端：\n",
        "1. 當物理系統處於確定狀態時，它仍然有隨機的行為。\n",
        "2. 彼此相距非常遠而無法相互影響的兩個系統，儘管各自隨機，但它們之間的聯繫仍可能緊密相關。\n",
        "\n",
        "在本教程中，我們將討論這些原則中的第一個，在[此其他教程](entanglement_introduction.ipynb)中將討論第二個。"
      ]
    },
    {
      "cell_type": "code",
      "metadata": {
        "ExecuteTime": {
          "end_time": "2018-09-29T01:21:10.790300Z",
          "start_time": "2018-09-29T01:21:10.782117Z"
        },
        "id": "ur_UC4JncQOC",
        "colab_type": "code",
        "colab": {}
      },
      "source": [
        "# useful additional packages \n",
        "import matplotlib.pyplot as plt\n",
        "%matplotlib inline\n",
        "import numpy as np\n",
        "\n",
        "# importing Qiskit\n",
        "from qiskit import QuantumCircuit, QuantumRegister, ClassicalRegister, execute\n",
        "from qiskit import BasicAer, IBMQ\n",
        "\n",
        "# import basic plot tools\n",
        "from qiskit.tools.visualization import plot_histogram"
      ],
      "execution_count": 2,
      "outputs": []
    },
    {
      "cell_type": "code",
      "metadata": {
        "ExecuteTime": {
          "end_time": "2018-09-29T01:22:28.659863Z",
          "start_time": "2018-09-29T01:22:28.657315Z"
        },
        "id": "6Hota8oNcQOG",
        "colab_type": "code",
        "colab": {}
      },
      "source": [
        "backend = BasicAer.get_backend('qasm_simulator') # run on local simulator by default\n",
        "\n",
        "# Uncomment the following lines to run on a real device\n",
        "#IBMQ.load_accounts()\n",
        "#from qiskit.providers.ibmq import least_busy\n",
        "#backend = least_busy(IBMQ.backends(operational=True, simulator=False))\n",
        "#print(\"the best backend is \" + backend.name())"
      ],
      "execution_count": 3,
      "outputs": []
    },
    {
      "cell_type": "markdown",
      "metadata": {
        "id": "lhRXTvaTcQOK",
        "colab_type": "text"
      },
      "source": [
        "## 量子態-基本態和疊加<a id='section1'></a>\n",
        "\n",
        "上面的第一個原理告訴我們，在根據所使用的基礎向量，測量量子態的結果可能是隨機的，也可能是確定的。 為了演示，我們將首先介紹一個量子位的計算（或標準）基礎向量。\n",
        "\n",
        "計算基礎向量是包含基本態和激發態 $\\{|0\\rangle,|1\\rangle\\} $的集合，該集合也對應於以下向量：\n",
        "\n",
        "$$|0\\rangle =\\begin{pmatrix} 1 \\\\ 0 \\end{pmatrix}$$\n",
        "$$|1\\rangle =\\begin{pmatrix} 0 \\\\ 1 \\end{pmatrix}$$\n",
        "\n",
        "在Python中，這些表示為"
      ]
    },
    {
      "cell_type": "code",
      "metadata": {
        "ExecuteTime": {
          "end_time": "2018-09-29T01:22:31.126309Z",
          "start_time": "2018-09-29T01:22:31.123639Z"
        },
        "id": "IzXlQUjJcQOL",
        "colab_type": "code",
        "colab": {}
      },
      "source": [
        "zero = np.array([[1],[0]])\n",
        "one = np.array([[0],[1]])"
      ],
      "execution_count": 4,
      "outputs": []
    },
    {
      "cell_type": "markdown",
      "metadata": {
        "id": "SbUHr9gVcQOR",
        "colab_type": "text"
      },
      "source": [
        "在我們的量子處理器系統（以及許多其他物理量子處理器）中，所有量子位自然都以 $ | 0 \\rangle $狀態（稱為基態）開始。 為了使 $| 1 \\rangle $（或激發）狀態，我們使用運算符\n",
        " \n",
        "$$ X =\\begin{pmatrix} 0 & 1 \\\\ 1 & 0 \\end{pmatrix}.$$\n",
        "\n",
        "該 $X$ 運算符通常稱為位翻轉運算符，因為它完全實現以下功能：\n",
        "\n",
        "$$X: |0\\rangle  \\rightarrow  |1\\rangle$$\n",
        "$$X: |1\\rangle \\rightarrow |0\\rangle.$$\n",
        "\n",
        "在Python中，這可以通過以下方式表示："
      ]
    },
    {
      "cell_type": "code",
      "metadata": {
        "ExecuteTime": {
          "end_time": "2018-09-29T01:22:31.755806Z",
          "start_time": "2018-09-29T01:22:31.744374Z"
        },
        "id": "biom1HP5cQOR",
        "colab_type": "code",
        "colab": {
          "base_uri": "https://localhost:8080/",
          "height": 85
        },
        "outputId": "d9d2c97d-fade-422a-89ad-e2caaec4452a"
      },
      "source": [
        "X = np.array([[0,1],[1,0]])\n",
        "print(np.dot(X,zero))\n",
        "print(np.dot(X,one))"
      ],
      "execution_count": 5,
      "outputs": [
        {
          "output_type": "stream",
          "text": [
            "[[0]\n",
            " [1]]\n",
            "[[1]\n",
            " [0]]\n"
          ],
          "name": "stdout"
        }
      ]
    },
    {
      "cell_type": "markdown",
      "metadata": {
        "id": "gm_fei8JcQOY",
        "colab_type": "text"
      },
      "source": [
        "接下來，我們給出兩個量子電路，用於使用Qiskit製備和測量基本態和激發態的單個量子位。"
      ]
    },
    {
      "cell_type": "code",
      "metadata": {
        "ExecuteTime": {
          "end_time": "2018-09-29T01:22:32.680270Z",
          "start_time": "2018-09-29T01:22:32.669604Z"
        },
        "id": "3heaRZ9OcQOZ",
        "colab_type": "code",
        "colab": {
          "base_uri": "https://localhost:8080/",
          "height": 34
        },
        "outputId": "20489444-3cca-432a-9d22-7e2014f390dc"
      },
      "source": [
        "# Creating registers\n",
        "qr = QuantumRegister(1)\n",
        "cr = ClassicalRegister(1)\n",
        "\n",
        "# Quantum circuit ground \n",
        "qc_ground = QuantumCircuit(qr, cr)\n",
        "qc_ground.measure(qr[0], cr[0])\n",
        "\n",
        "# Quantum circuit excited \n",
        "qc_excited = QuantumCircuit(qr, cr)\n",
        "qc_excited.x(qr)\n",
        "qc_excited.measure(qr[0], cr[0])"
      ],
      "execution_count": 7,
      "outputs": [
        {
          "output_type": "execute_result",
          "data": {
            "text/plain": [
              "<qiskit.circuit.instructionset.InstructionSet at 0x7fbb9e2fc5f8>"
            ]
          },
          "metadata": {
            "tags": []
          },
          "execution_count": 7
        }
      ]
    },
    {
      "cell_type": "code",
      "metadata": {
        "ExecuteTime": {
          "end_time": "2018-09-29T01:22:34.044630Z",
          "start_time": "2018-09-29T01:22:33.056545Z"
        },
        "id": "cUfgCcQgcQOe",
        "colab_type": "code",
        "colab": {
          "base_uri": "https://localhost:8080/",
          "height": 140
        },
        "outputId": "e9c1c296-3d11-4519-ec78-dc065ee8fc49"
      },
      "source": [
        "qc_ground.draw(output='mpl')"
      ],
      "execution_count": 8,
      "outputs": [
        {
          "output_type": "execute_result",
          "data": {
            "image/png": "[encoded data removed]",
            "text/plain": [
              "<Figure size 184.212x144.48 with 1 Axes>"
            ]
          },
          "metadata": {
            "tags": []
          },
          "execution_count": 8
        }
      ]
    },
    {
      "cell_type": "code",
      "metadata": {
        "ExecuteTime": {
          "end_time": "2018-09-29T01:22:35.206121Z",
          "start_time": "2018-09-29T01:22:34.046699Z"
        },
        "id": "5lk44f-1cQOj",
        "colab_type": "code",
        "colab": {
          "base_uri": "https://localhost:8080/",
          "height": 140
        },
        "outputId": "e6673abc-8ebc-45c5-fadc-86b37158b191"
      },
      "source": [
        "qc_excited.draw(output='mpl')"
      ],
      "execution_count": 9,
      "outputs": [
        {
          "output_type": "execute_result",
          "data": {
            "image/png": "[encoded data removed]",
            "text/plain": [
              "<Figure size 244.412x144.48 with 1 Axes>"
            ]
          },
          "metadata": {
            "tags": []
          },
          "execution_count": 9
        }
      ]
    },
    {
      "cell_type": "markdown",
      "metadata": {
        "id": "3wvXN7uzcQOl",
        "colab_type": "text"
      },
      "source": [
        "在這裡，我們創建了兩個具有不同量子電路的工作。 第一個準備基本態，第二個準備激發態。 現在我們可以運行準備好的作業。"
      ]
    },
    {
      "cell_type": "code",
      "metadata": {
        "ExecuteTime": {
          "end_time": "2018-09-29T01:22:35.409157Z",
          "start_time": "2018-09-29T01:22:35.212330Z"
        },
        "scrolled": true,
        "id": "lBqaRgarcQOm",
        "colab_type": "code",
        "colab": {}
      },
      "source": [
        "circuits = [qc_ground, qc_excited]\n",
        "job = execute(circuits, backend)\n",
        "result = job.result()"
      ],
      "execution_count": 10,
      "outputs": []
    },
    {
      "cell_type": "markdown",
      "metadata": {
        "id": "Oo7fJuZZcQOp",
        "colab_type": "text"
      },
      "source": [
        "運行完成後，可以從API輸出中提取數據並進行繪製。"
      ]
    },
    {
      "cell_type": "code",
      "metadata": {
        "ExecuteTime": {
          "end_time": "2018-09-29T01:22:35.607490Z",
          "start_time": "2018-09-29T01:22:35.414354Z"
        },
        "scrolled": true,
        "id": "gthA_OU1cQOp",
        "colab_type": "code",
        "colab": {
          "base_uri": "https://localhost:8080/",
          "height": 323
        },
        "outputId": "838caf39-b0a9-40c8-bb59-1ed59c203b3f"
      },
      "source": [
        "plot_histogram(result.get_counts(qc_ground))"
      ],
      "execution_count": 11,
      "outputs": [
        {
          "output_type": "execute_result",
          "data": {
            "image/png": "[encoded data removed]",
            "text/plain": [
              "<Figure size 504x360 with 1 Axes>"
            ]
          },
          "metadata": {
            "tags": []
          },
          "execution_count": 11
        }
      ]
    },
    {
      "cell_type": "code",
      "metadata": {
        "ExecuteTime": {
          "end_time": "2018-09-29T01:22:35.889118Z",
          "start_time": "2018-09-29T01:22:35.612309Z"
        },
        "id": "KWaGaUJlcQOw",
        "colab_type": "code",
        "colab": {
          "base_uri": "https://localhost:8080/",
          "height": 323
        },
        "outputId": "88b229ad-2770-49ab-c5ca-01f15d38eeb3"
      },
      "source": [
        "plot_histogram(result.get_counts(qc_excited))"
      ],
      "execution_count": 12,
      "outputs": [
        {
          "output_type": "execute_result",
          "data": {
            "image/png": "[encoded data removed]",
            "text/plain": [
              "<Figure size 504x360 with 1 Axes>"
            ]
          },
          "metadata": {
            "tags": []
          },
          "execution_count": 12
        }
      ]
    },
    {
      "cell_type": "markdown",
      "metadata": {
        "id": "xa74tU9McQOz",
        "colab_type": "text"
      },
      "source": [
        "在這裡，我們看到第一個電路的qubit處於 $| 0 \\rangle $狀態，第二個電路處於100％概率處於 $|1 \\rangle $狀態。如果我們在量子處理器上而不是模擬器上運行，則由於測量誤差，製備誤差和門誤差（對於$| 1 \\rangle $狀態）的組合，將與理想的完美答案有所不同。\n",
        "\n",
        "到目前為止，與經典系統沒有什麼不同。要超越，我們必須探索進行疊加意味著什麼。用量子電路語言生成疊加的操作是Hadamard門 $H$。現在讓我們假設，這扇門就像擲一個公平的硬幣。翻轉的結果有兩個可能的結果，正面或反面，每個均以相同的概率發生。如果我們多次重複這個簡單的思維實驗，我們期望平均而言，我們測量到的腦袋和尾巴一樣多。讓頭為$ | 0 \\rangle $，尾為$ | 1 \\rangle $。\n",
        "\n",
        "讓我們運行該實驗的量子版本。首先，我們準備基態$ | 0 \\rangle $中的量子位。然後，我們應用Hadamard門（硬幣翻轉）。最後，我們測量量子位的狀態。重複實驗1024次（快照）。如您所料，結果的一半將處於$ | 0 \\rangle $狀態，一半的結果將處於$ | 1 \\rangle $狀態。\n",
        "\n",
        "請嘗試以下程序。"
      ]
    },
    {
      "cell_type": "code",
      "metadata": {
        "ExecuteTime": {
          "end_time": "2018-09-29T01:22:37.057180Z",
          "start_time": "2018-09-29T01:22:35.893424Z"
        },
        "id": "TmpzTr53cQOz",
        "colab_type": "code",
        "colab": {
          "base_uri": "https://localhost:8080/",
          "height": 140
        },
        "outputId": "55c5ade3-633c-4d31-970e-476ff7c5c0a2"
      },
      "source": [
        "# Quantum circuit superposition \n",
        "qc_superposition = QuantumCircuit(qr, cr)\n",
        "qc_superposition.h(qr)\n",
        "qc_superposition.measure(qr[0], cr[0])\n",
        "\n",
        "qc_superposition.draw(output='mpl')"
      ],
      "execution_count": 17,
      "outputs": [
        {
          "output_type": "execute_result",
          "data": {
            "image/png": "[encoded data removed]",
            "text/plain": [
              "<Figure size 244.412x144.48 with 1 Axes>"
            ]
          },
          "metadata": {
            "tags": []
          },
          "execution_count": 17
        }
      ]
    },
    {
      "cell_type": "code",
      "metadata": {
        "ExecuteTime": {
          "end_time": "2018-09-29T01:22:37.261227Z",
          "start_time": "2018-09-29T01:22:37.059186Z"
        },
        "id": "_BhLUC3FcQO2",
        "colab_type": "code",
        "colab": {
          "base_uri": "https://localhost:8080/",
          "height": 324
        },
        "outputId": "53f3c155-f6c5-42b2-fedb-1f18827e5a51"
      },
      "source": [
        "job = execute(qc_superposition, backend, shots = 1024)\n",
        "result = job.result()\n",
        "\n",
        "plot_histogram(result.get_counts(qc_superposition))"
      ],
      "execution_count": 14,
      "outputs": [
        {
          "output_type": "execute_result",
          "data": {
            "image/png": "[encoded data removed]",
            "text/plain": [
              "<Figure size 504x360 with 1 Axes>"
            ]
          },
          "metadata": {
            "tags": []
          },
          "execution_count": 14
        }
      ]
    },
    {
      "cell_type": "markdown",
      "metadata": {
        "id": "mKBSjwgHcQO4",
        "colab_type": "text"
      },
      "source": [
        "實際上，就像硬幣翻轉一樣，結果接近50/50，並且由於錯誤（同樣由於狀態準備，測量和門錯誤）而有些不理想。 到目前為止，這仍然不是意外的。 讓我們再次運行實驗，但是這次連續有兩個$H$門。 如果我們認為$H$門類似於硬幣翻轉，那麼我們將其翻轉兩次，並且仍然期望50/50的分配。"
      ]
    },
    {
      "cell_type": "code",
      "metadata": {
        "ExecuteTime": {
          "end_time": "2018-09-29T01:22:38.451858Z",
          "start_time": "2018-09-29T01:22:37.266684Z"
        },
        "id": "dSjCWcfscQO5",
        "colab_type": "code",
        "colab": {
          "base_uri": "https://localhost:8080/",
          "height": 140
        },
        "outputId": "6843a574-c898-4375-8795-0e6adc5b7eaa"
      },
      "source": [
        "# Quantum circuit two Hadamards \n",
        "qc_twohadamard = QuantumCircuit(qr, cr)\n",
        "qc_twohadamard.h(qr)\n",
        "qc_twohadamard.barrier()\n",
        "qc_twohadamard.h(qr)\n",
        "qc_twohadamard.measure(qr[0], cr[0])\n",
        "\n",
        "qc_twohadamard.draw(output='mpl')"
      ],
      "execution_count": 18,
      "outputs": [
        {
          "output_type": "execute_result",
          "data": {
            "image/png": "[encoded data removed]",
            "text/plain": [
              "<Figure size 364.812x144.48 with 1 Axes>"
            ]
          },
          "metadata": {
            "tags": []
          },
          "execution_count": 18
        }
      ]
    },
    {
      "cell_type": "code",
      "metadata": {
        "ExecuteTime": {
          "end_time": "2018-09-29T01:22:38.640465Z",
          "start_time": "2018-09-29T01:22:38.458190Z"
        },
        "id": "bYg5ZCjZcQO7",
        "colab_type": "code",
        "colab": {
          "base_uri": "https://localhost:8080/",
          "height": 323
        },
        "outputId": "20563bf9-aa8a-4dab-f23d-c67a7b7d7fbe"
      },
      "source": [
        "job = execute(qc_twohadamard, backend)\n",
        "result = job.result()\n",
        "\n",
        "plot_histogram(result.get_counts(qc_twohadamard))"
      ],
      "execution_count": 19,
      "outputs": [
        {
          "output_type": "execute_result",
          "data": {
            "image/png": "[encoded data removed]",
            "text/plain": [
              "<Figure size 504x360 with 1 Axes>"
            ]
          },
          "metadata": {
            "tags": []
          },
          "execution_count": 19
        }
      ]
    },
    {
      "cell_type": "markdown",
      "metadata": {
        "id": "RUmdF7xxcQO9",
        "colab_type": "text"
      },
      "source": [
        "這次，結果令人驚訝。與經典情況不同，結果很有可能不是隨機的，而是處於$ | 0 \\rangle $狀態。 *量子隨機性*不僅僅像經典的隨機硬幣翻轉一樣。在以上兩個實驗中，系統（無噪聲）都處於確定的狀態，但是只有在第一種情況下，它的行為才是隨機的。這是因為，在第一種情況下，通過$ H $門，我們對基態和激發態$（| 0 \\rangle + | 1 \\rangle）/ \\sqrt {2} $ 進行均勻疊加，但是隨後遵循在計算基礎上進行測量。在計算基礎上的測量行為以相等的概率（由於疊加的均勻性）迫使系統處於$ | 0 \\rangle $狀態或$ | 1 \\rangle $狀態。在第二種情況下，我們可以認為第二個$H$門是最終測量操作的一部分；它將測量基礎從計算基礎更改為“疊加”基礎。以下等式說明了$H$門對計算基礎狀態的作用：\n",
        "$$ H：| 0 \\rangle \\rightarrow | + \\rangle = \\frac{| 0 \\rangle + | 1 \\rangle} {\\sqrt {2}} $$\n",
        "$$ H：| 1 \\rangle \\rightarrow |-\\rangle = \\frac{| 0 \\rangle- | 1 \\rangle} {\\sqrt {2}} .. $$\n",
        "\n",
        "我們可以將這個新的轉換後的基礎（即疊加基礎）重新定義為集合{$ | + \\rangle $，$ |-\\rangle $}。現在，我們有另一種方式查看上面的第二個實驗。第一個$ H $門使系統進入疊加狀態，即$ | + \\rangle $狀態。第二個$H$門和隨後的標準測量將其變為疊加測量。如果測量結果為0，我們可以得出結論，系統在第二個$H$門之前處於$ | + \\rangle $狀態，並且如果獲得1，則意味著系統處於$ |-\\rangle $狀態。在上面的實驗中，我們看到結果主要為0，這表明我們的系統在第二個$H$門之前處於$ | + \\rangle $疊加狀態。\n",
        "\n",
        "\n",
        "如果我們通過以下方式表示量子疊加態$ | + \\rangle $和$ |-\\rangle $，則可以最好地理解數學。\n",
        "\n",
        "$$ | + \\rangle = \\frac{1} {\\sqrt {2}} \\begin{pmatrix} 1 \\\\ 1 \\end {pmatrix} $$\n",
        "\n",
        "$$ |-\\rangle = \\frac {1} {\\sqrt {2}} \\begin {pmatrix} 1 \\\\ -1 \\end {pmatrix} $$\n",
        "\n",
        "在量子力學中稱為投射或馮·諾依曼測量的標準測量採用量子位的任何疊加狀態，並將其投影到狀態$ | 0 \\rangle $或狀態$ | 1 \\rangle $，其概率由下式確定： ：\n",
        "\n",
        "$$ P（i | \\psi）= | \\langle i | \\psi \\rangle | ^ 2 $$\n",
        "\n",
        "其中$ P（i | \\psi）$是在給定準備$ \\psi $的情況下在狀態$i$中測量系統的概率。\n",
        "\n",
        "我們已經編寫了Python函數```state_overlap```以返回此代碼："
      ]
    },
    {
      "cell_type": "code",
      "metadata": {
        "ExecuteTime": {
          "end_time": "2018-09-29T01:22:38.652365Z",
          "start_time": "2018-09-29T01:22:38.646795Z"
        },
        "id": "B6LiN7kxcQO9",
        "colab_type": "code",
        "colab": {}
      },
      "source": [
        "state_overlap = lambda state1, state2: np.absolute(np.dot(state1.conj().T,state2))**2"
      ],
      "execution_count": 20,
      "outputs": []
    },
    {
      "cell_type": "markdown",
      "metadata": {
        "id": "kZBqBtehcQO_",
        "colab_type": "text"
      },
      "source": [
        "現在，我們有了從狀態到標準度量的概率分佈的簡單方法，我們可以回到由Hadamard門進行疊加的情況。 Hadamard門由矩陣定義：\n",
        "\n",
        "$$ H = \\frac {1} {\\sqrt {2}} \\begin {pmatrix} 1＆1 \\\\ 1＆-1 \\end {pmatrix} $$\n",
        "\n",
        "作用於狀態$ | 0 \\rangle $的$H$門給出："
      ]
    },
    {
      "cell_type": "code",
      "metadata": {
        "ExecuteTime": {
          "end_time": "2018-09-29T01:22:38.817423Z",
          "start_time": "2018-09-29T01:22:38.658590Z"
        },
        "id": "0e1G6z63cQO_",
        "colab_type": "code",
        "colab": {
          "base_uri": "https://localhost:8080/",
          "height": 328
        },
        "outputId": "064740c7-86fb-42ea-dc3c-2a86ea48f3b5"
      },
      "source": [
        "Hadamard = np.array([[1,1],[1,-1]],dtype=complex)/np.sqrt(2)\n",
        "psi1 = np.dot(Hadamard,zero)\n",
        "P0 = state_overlap(zero,psi1)\n",
        "P1 = state_overlap(one,psi1)\n",
        "plot_histogram({'0' : P0.item(0), '1' : P1.item(0)})"
      ],
      "execution_count": 21,
      "outputs": [
        {
          "output_type": "execute_result",
          "data": {
            "image/png": "[encoded data removed]",
            "text/plain": [
              "<Figure size 504x360 with 1 Axes>"
            ]
          },
          "metadata": {
            "tags": []
          },
          "execution_count": 21
        }
      ]
    },
    {
      "cell_type": "markdown",
      "metadata": {
        "id": "5gFnkAU7cQPB",
        "colab_type": "text"
      },
      "source": [
        "這是第一個疊加實驗的理想版本。\n",
        "\n",
        "第二個實驗涉及兩次應用Hadamard門。 雖然矩陣乘法表明兩個Hadamards的乘積是恆等運算符（意味著狀態$ | 0 \\rangle $保持不變），但在這裡（如前所述），我們更傾向於將其解釋為以疊加為基礎進行測量。 使用以上定義，您可以證明$ H $將計算基礎轉換為疊加基礎。"
      ]
    },
    {
      "cell_type": "code",
      "metadata": {
        "ExecuteTime": {
          "end_time": "2018-09-29T01:22:38.830023Z",
          "start_time": "2018-09-29T01:22:38.820575Z"
        },
        "id": "XgIbCrBdcQPB",
        "colab_type": "code",
        "colab": {
          "base_uri": "https://localhost:8080/",
          "height": 85
        },
        "outputId": "93cf9876-8934-4283-a1ad-87737734175c"
      },
      "source": [
        "print(np.dot(Hadamard,zero))\n",
        "print(np.dot(Hadamard,one))"
      ],
      "execution_count": 22,
      "outputs": [
        {
          "output_type": "stream",
          "text": [
            "[[0.70710678+0.j]\n",
            " [0.70710678+0.j]]\n",
            "[[ 0.70710678+0.j]\n",
            " [-0.70710678+0.j]]\n"
          ],
          "name": "stdout"
        }
      ]
    },
    {
      "cell_type": "markdown",
      "metadata": {
        "id": "SROaZzqpcQPD",
        "colab_type": "text"
      },
      "source": [
        "This is just the beginning of how a quantum state differs from a classical state. Please continue to [Amplitude and Phase](amplitude_and_phase.ipynb) to explore further!"
      ]
    }
  ]
}